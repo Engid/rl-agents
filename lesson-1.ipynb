{
 "cells": [
  {
   "cell_type": "markdown",
   "id": "61147451",
   "metadata": {},
   "source": [
    "uv init [project]\n",
    "uv add openai "
   ]
  },
  {
   "cell_type": "code",
   "execution_count": null,
   "id": "75003a08",
   "metadata": {},
   "outputs": [],
   "source": [
    "import instructor # formats in pydantic way for more providers"
   ]
  },
  {
   "cell_type": "markdown",
   "id": "a88229f3",
   "metadata": {},
   "source": [
    "can models do well with psuedocode grammars? will had <[text | action]> in his xlm formatting \n",
    "\n",
    "- read the model cards for how models do with structured formatting\n",
    "\n",
    "evals generation:\n",
    "have an llm go through documents and write trivia questions/answers to simulate people asking questions and having an agent look up an answer \n",
    "\n",
    "have LLMS in lots of places of the pipeline avoids a lot of manual work\n",
    "\n",
    "DeepEval "
   ]
  },
  {
   "cell_type": "markdown",
   "id": "c90cff34",
   "metadata": {},
   "source": [
    "project ideas:\n",
    "\n",
    "tool calls with Results, Noam interview said giving tools that let the model check for legal moves is good, but having actions that fail might be bad? so experiment with `CheckForLegalMoves` or `GetFiles` that only returns which files the model has access too..\n",
    "\n",
    "play with security ideas.. \n",
    "\n",
    "play with tool descriptions that have pre/post condition descritions\n",
    "\n",
    "play with psudo code to real code generation \n",
    "\n",
    "play with \"special file\" formats that break out a Prompt section and a Code section, where the LLM fills in the code (godbolt but for LLMs)\n",
    "\n",
    "\n",
    "\n",
    "--> \n",
    "\n",
    "document search: \n",
    "load a butload of fantasy lore into a vector db, and ask the ai to load the right context per the theme of the conversation \n",
    "\n",
    "- have an llm generate \"answers\" for evals, with the context-section\n",
    "\n",
    "-will: agentic search may work better if the tools allow fine-grained search in combination, \n",
    "\n",
    "\n"
   ]
  }
 ],
 "metadata": {
  "kernelspec": {
   "display_name": ".venv",
   "language": "python",
   "name": "python3"
  },
  "language_info": {
   "codemirror_mode": {
    "name": "ipython",
    "version": 3
   },
   "file_extension": ".py",
   "mimetype": "text/x-python",
   "name": "python",
   "nbconvert_exporter": "python",
   "pygments_lexer": "ipython3",
   "version": "3.12.3"
  }
 },
 "nbformat": 4,
 "nbformat_minor": 5
}
