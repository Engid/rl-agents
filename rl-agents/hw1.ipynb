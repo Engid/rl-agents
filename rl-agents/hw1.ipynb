{
 "cells": [
  {
   "cell_type": "code",
   "execution_count": 5,
   "id": "30ec7580-bc34-4367-890b-6163c12173af",
   "metadata": {},
   "outputs": [
    {
     "name": "stdout",
     "output_type": "stream",
     "text": [
      "Sure! Let's break down the provided code into a syntax tree format first, and then we will analyze what the program does.\n",
      "\n",
      "### Syntax Tree\n",
      "\n",
      "```\n",
      "Program\n",
      "├── TypeDeclaration\n",
      "│   └── Type: x\n",
      "│       └── UnionType\n",
      "│           ├── int\n",
      "│           └── string\n",
      "├── VariableDeclaration\n",
      "│   ├── Variable: x\n",
      "│   └── Value: 35\n",
      "└── IfStatement\n",
      "    ├── Condition\n",
      "    │   └── TypeCheck\n",
      "    │       ├── Variable: x\n",
      "    │       └── Type: int\n",
      "    ├── ThenBranch\n",
      "    │   └── PrintStatement\n",
      "    │       └── \"howdy do\"\n",
      "    └── ElseBranch\n",
      "        └── PrintStatement\n",
      "            └── \"dandy\"\n",
      "```\n",
      "\n",
      "### Explanation of the Program\n",
      "\n",
      "1. **Type Declaration:** \n",
      "   - `type x = int | string` declares a type `x` that can either be an `int` or a `string`.\n",
      "\n",
      "2. **Variable Declaration:**\n",
      "   - `let x = 35` creates a variable `x` and initializes it with the value `35`, which is an integer.\n",
      "\n",
      "3. **If Statement:**\n",
      "   - The program checks if `x` is of type `int`.\n",
      "   - Since `x` is initialized with the value `35`, it is indeed an integer.\n",
      "\n",
      "4. **Then Branch:** \n",
      "   - Because the condition evaluates to `true`, it executes the `ThenBranch`, which prints \"howdy do\".\n",
      "\n",
      "5. **Else Branch:** \n",
      "   - This branch will not be executed because the condition was true.\n",
      "\n",
      "### Final Output\n",
      "\n",
      "The output of the program will be:\n",
      "```\n",
      "howdy do\n",
      "```\n"
     ]
    }
   ],
   "source": [
    "import os\n",
    "from dotenv import load_dotenv\n",
    "from openai import OpenAI\n",
    "\n",
    "# Load environment variables from .env file\n",
    "load_dotenv()\n",
    "\n",
    "# Now OpenAI will automatically use OPENAI_API_KEY from environment\n",
    "client = OpenAI()\n",
    "\n",
    "content = \"\"\"\n",
    "type x = int | string\n",
    "let x = 35 \n",
    "if x is int {\n",
    "    print(\"howdy do\")\n",
    "} else {\n",
    "    print(\"dandy\")\n",
    "}\n",
    "\n",
    "what does this program do? break it down into a syntax tree in a simple markdown format,\n",
    "then print the answer. \n",
    "\"\"\"\n",
    "\n",
    "response = client.chat.completions.create(\n",
    "    model=\"gpt-4.1-nano-2025-04-14\",\n",
    "    messages=[{\"role\": \"user\", \"content\": \"Hello, world! what is the capital of turkey?\"}]\n",
    "    model=\"gpt-4o-mini\",\n",
    "    messages=[{\"role\": \"user\", \"content\": content}]\n",
    ")\n",
    "\n",
    "print(response.choices[0].message.content)"
   ]
  },
  {
   "cell_type": "markdown",
   "id": "c584ee7b",
   "metadata": {},
   "outputs": [
    {
     "name": "stdout",
     "output_type": "stream",
     "text": [
      "h wwoolllldddddddddddddd\n"
     ]
    }
   ],
   "source": [
    "holy shit that worked? i wonder how consistent that is"
   ]
  }
 ],
 "metadata": {
  "kernelspec": {
   "display_name": "Python 3 (ipykernel)",
   "language": "python",
   "name": "python3"
  },
  "language_info": {
   "codemirror_mode": {
    "name": "ipython",
    "version": 3
   },
   "file_extension": ".py",
   "mimetype": "text/x-python",
   "name": "python",
   "nbconvert_exporter": "python",
   "pygments_lexer": "ipython3",
   "version": "3.12.11"
  }
 },
 "nbformat": 4,
 "nbformat_minor": 5
}
